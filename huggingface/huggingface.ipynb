{
 "cells": [
  {
   "cell_type": "code",
   "execution_count": 1,
   "metadata": {},
   "outputs": [],
   "source": [
    "from langchain_community.document_loaders import PyPDFLoader\n",
    "from langchain_community.document_loaders import PyPDFDirectoryLoader\n",
    "from langchain.text_splitter import RecursiveCharacterTextSplitter\n",
    "from langchain_community.vectorstores import FAISS\n",
    "\n",
    "from langchain_community.embeddings import HuggingFaceBgeEmbeddings\n",
    "from langchain.prompts import PromptTemplate\n",
    "\n",
    "from langchain.chains import RetrievalQA"
   ]
  },
  {
   "cell_type": "code",
   "execution_count": 2,
   "metadata": {},
   "outputs": [
    {
     "data": {
      "text/plain": [
       "Document(page_content='Health Insurance Coverage Status and Type \\nby Geography: 2021 and 2022\\nAmerican Community Survey Briefs\\nACSBR-015\\nIssued September 2023\\nDouglas Conway and Breauna Branch\\nINTRODUCTION\\nDemographic shifts as well as economic and govern-\\nment policy changes can affect people’s access to \\nhealth coverage. For example, between 2021 and 2022, \\nthe labor market continued to improve, which may \\nhave affected private coverage in the United States \\nduring that time.1 Public policy changes included \\nthe renewal of the Public Health Emergency, which \\nallowed Medicaid enrollees to remain covered under \\nthe Continuous Enrollment Provision.2 The American \\nRescue Plan (ARP) enhanced Marketplace premium \\nsubsidies for those with incomes above 400 percent \\nof the poverty level as well as for unemployed people.3\\nIn addition to national policies, individual states and \\nthe District of Columbia can affect health insurance \\ncoverage by making Marketplace or Medicaid more', metadata={'source': 'us_census/acsbr-015.pdf', 'page': 0})"
      ]
     },
     "execution_count": 2,
     "metadata": {},
     "output_type": "execute_result"
    }
   ],
   "source": [
    "## Read the ppdfs from the folder\n",
    "loader=PyPDFDirectoryLoader(\"./us_census\")\n",
    "\n",
    "documents=loader.load()\n",
    "\n",
    "text_splitter=RecursiveCharacterTextSplitter(chunk_size=1000,chunk_overlap=200)\n",
    "\n",
    "final_documents=text_splitter.split_documents(documents)\n",
    "final_documents[0]"
   ]
  },
  {
   "cell_type": "code",
   "execution_count": 3,
   "metadata": {},
   "outputs": [
    {
     "data": {
      "text/plain": [
       "316"
      ]
     },
     "execution_count": 3,
     "metadata": {},
     "output_type": "execute_result"
    }
   ],
   "source": [
    "len(final_documents)"
   ]
  },
  {
   "cell_type": "code",
   "execution_count": 4,
   "metadata": {},
   "outputs": [
    {
     "name": "stderr",
     "output_type": "stream",
     "text": [
      "/Users/akhilbhardwaj/Desktop/Langchain/venv/lib/python3.10/site-packages/tqdm/auto.py:21: TqdmWarning: IProgress not found. Please update jupyter and ipywidgets. See https://ipywidgets.readthedocs.io/en/stable/user_install.html\n",
      "  from .autonotebook import tqdm as notebook_tqdm\n"
     ]
    }
   ],
   "source": [
    "## Embedding Using Huggingface\n",
    "huggingface_embeddings=HuggingFaceBgeEmbeddings(\n",
    "    model_name=\"BAAI/bge-small-en-v1.5\",      #sentence-transformers/all-MiniLM-l6-v2\n",
    "    model_kwargs={'device':'cpu'},\n",
    "    encode_kwargs={'normalize_embeddings':True}\n",
    "\n",
    ")"
   ]
  },
  {
   "cell_type": "code",
   "execution_count": 5,
   "metadata": {},
   "outputs": [
    {
     "name": "stdout",
     "output_type": "stream",
     "text": [
      "[-0.07903484 -0.01134113 -0.02312097  0.02844467  0.05053343  0.05317827\n",
      " -0.01907786  0.03456028 -0.10211373 -0.02915697  0.08524259  0.05650725\n",
      " -0.02545439 -0.0330849  -0.00635737  0.0409086  -0.00628109  0.00356744\n",
      " -0.03854131  0.03667686 -0.04289805  0.03425254 -0.03116894 -0.03793729\n",
      "  0.01728391  0.0121492   0.00653119  0.01463566 -0.05529056 -0.15320705\n",
      "  0.00730849  0.03202938 -0.04701122 -0.01595971  0.01874446  0.02642935\n",
      " -0.02306375  0.08438036  0.04182489  0.05278172 -0.03057599  0.01564261\n",
      " -0.01689071  0.00529408 -0.02417444  0.00412992 -0.01889935 -0.00150622\n",
      " -0.00836945 -0.03390067  0.03515956 -0.00553135  0.04910937  0.05971859\n",
      "  0.05615963 -0.05105161  0.01475137 -0.01849961 -0.03284641  0.03576628\n",
      "  0.04947709 -0.00938884 -0.26202121  0.09750335  0.01715687  0.04781389\n",
      " -0.00556319 -0.00298306 -0.02207355 -0.04463666 -0.05760488  0.04815875\n",
      " -0.05522211  0.01635334  0.03299244  0.02147079  0.01296214  0.01462307\n",
      "  0.0217495  -0.00203     0.02099539  0.03353845 -0.00345109 -0.04823535\n",
      "  0.05149957 -0.08948115  0.04491431 -0.03423376  0.02495741 -0.03332322\n",
      " -0.04124895  0.01226973  0.00551143  0.02813659  0.00750815  0.03364129\n",
      " -0.00718595 -0.00677299 -0.02375994  0.34350553 -0.02040544  0.00967845\n",
      " -0.00936505  0.01524744 -0.00692598 -0.05803746 -0.00443026  0.01115697\n",
      "  0.01746197  0.01258484  0.02158612 -0.02646191  0.01026767  0.0478221\n",
      " -0.03718098 -0.01986198  0.0400809   0.01574839  0.09363527 -0.02635879\n",
      " -0.01393854  0.03410937 -0.01630281 -0.04708785  0.02137165  0.06708886\n",
      "  0.05438907  0.15054183  0.0344439  -0.04218613  0.10422419 -0.04002271\n",
      " -0.00191295  0.00459123 -0.00292592  0.0037136  -0.0268768   0.03972113\n",
      " -0.00739632  0.05129857  0.00698697 -0.00043549 -0.0075281  -0.13413781\n",
      " -0.03140993  0.17964658 -0.02152574  0.04534225  0.02027219 -0.01826408\n",
      " -0.04439808  0.04787035 -0.0380155   0.04057754 -0.03817717  0.01659369\n",
      " -0.00368182  0.02469144 -0.02634711 -0.06727428  0.05705415 -0.03698835\n",
      " -0.05754095  0.01774044  0.04163104 -0.02699812 -0.01342314 -0.06434497\n",
      "  0.02320639  0.00476099  0.01345854  0.05142652  0.01828843 -0.02267211\n",
      "  0.08680937  0.0228899  -0.02278561 -0.00261808 -0.00936066 -0.0596436\n",
      "  0.00370074 -0.02772138 -0.05116595 -0.04951676 -0.01691752 -0.04342568\n",
      " -0.06551475  0.05782726  0.04989291 -0.01559616 -0.00385898  0.00827745\n",
      " -0.06377073  0.01969864 -0.01933409 -0.01095792 -0.05990797 -0.02187356\n",
      "  0.03869355 -0.02963532 -0.03095985  0.02629449  0.00857689 -0.00225388\n",
      " -0.00917321  0.02006878  0.02308837 -0.0694983   0.0382564  -0.01321393\n",
      "  0.00288259  0.04065884  0.03197154  0.00364797  0.03610993  0.01653038\n",
      "  0.01282885 -0.02190452  0.02050884  0.03220993  0.0335138   0.06819047\n",
      "  0.09490154 -0.27463815 -0.00499025  0.00181546  0.00687726 -0.06947185\n",
      " -0.05266646 -0.04547598  0.02707846  0.00403483  0.08909722  0.06208605\n",
      " -0.00817404 -0.02176253  0.10530704  0.0210507  -0.08313885  0.0264829\n",
      " -0.02122216 -0.01542386 -0.00282387  0.00493171  0.00487717 -0.0601228\n",
      " -0.02174243  0.08150735 -0.01746733  0.06210529 -0.05241902 -0.07425194\n",
      "  0.0004582  -0.05536216  0.05762159 -0.00776096 -0.11965961  0.06155292\n",
      "  0.01773324 -0.07490139  0.00434351 -0.06374457 -0.03096176 -0.02682649\n",
      "  0.05158743 -0.063566    0.02998998 -0.01865467 -0.05194332  0.04636516\n",
      "  0.07127585 -0.08020443  0.0102525   0.00649391 -0.03402686 -0.03371226\n",
      " -0.01476092  0.02565078 -0.06251825 -0.0316458   0.03269225 -0.01906627\n",
      " -0.00269565  0.02393796  0.00502709  0.04807227 -0.00441299 -0.00810786\n",
      " -0.04506411  0.01010003 -0.03085292 -0.07091319  0.00998583  0.00276085\n",
      "  0.04710479 -0.02302795 -0.02459351  0.01797345 -0.0211284   0.04660881\n",
      " -0.00104204 -0.00374579 -0.04950175  0.04251794 -0.05733852  0.02055239\n",
      "  0.0421968  -0.0116706   0.01241856  0.01056798  0.00663803 -0.01598004\n",
      "  0.01632796 -0.02056748 -0.01553833 -0.01156682 -0.01864408  0.00332136\n",
      "  0.00658677 -0.21910891  0.04714739  0.02075713 -0.02441517 -0.00868849\n",
      " -0.01634125 -0.02499124  0.00766706 -0.01083085 -0.02472526  0.05254849\n",
      "  0.08288421  0.11848128 -0.0193633  -0.00433768  0.00458099  0.06947739\n",
      "  0.00124528  0.02368699 -0.03457185  0.06163961 -0.06045355  0.14640093\n",
      " -0.03099668  0.01726846 -0.06827347 -0.01641342  0.03765274 -0.03385301\n",
      "  0.01721655  0.02592444 -0.00034789  0.02241221 -0.01919536  0.05005866\n",
      "  0.00834135  0.00977343  0.05592787  0.00274987  0.02592715 -0.04995013\n",
      " -0.02017871  0.02317912  0.01068106  0.06462803 -0.02950335 -0.04529901\n",
      " -0.06358045 -0.01058146  0.0679375   0.00993982 -0.02914155  0.0044198\n",
      "  0.01224192 -0.05699341 -0.01181838 -0.06126494  0.03326268  0.00284467\n",
      " -0.0124883   0.02214626  0.04263513 -0.07597515  0.01234051  0.06002004]\n",
      "(384,)\n"
     ]
    }
   ],
   "source": [
    "import  numpy as np\n",
    "print(np.array(huggingface_embeddings.embed_query(final_documents[0].page_content)))\n",
    "print(np.array(huggingface_embeddings.embed_query(final_documents[0].page_content)).shape)"
   ]
  },
  {
   "cell_type": "code",
   "execution_count": 6,
   "metadata": {},
   "outputs": [],
   "source": [
    "## VectorStore Creation\n",
    "vectorstore=FAISS.from_documents(final_documents[:120],huggingface_embeddings)"
   ]
  },
  {
   "cell_type": "code",
   "execution_count": 7,
   "metadata": {},
   "outputs": [
    {
     "name": "stdout",
     "output_type": "stream",
     "text": [
      "2 U.S. Census Bureau\n",
      "WHAT IS HEALTH INSURANCE COVERAGE?\n",
      "This brief presents state-level estimates of health insurance coverage \n",
      "using data from the American Community Survey (ACS). The  \n",
      "U.S. Census Bureau conducts the ACS throughout the year; the \n",
      "survey asks respondents to report their coverage at the time of \n",
      "interview. The resulting measure of health insurance coverage, \n",
      "therefore, reflects an annual average of current comprehensive \n",
      "health insurance coverage status.* This uninsured rate measures a \n",
      "different concept than the measure based on the Current Population \n",
      "Survey Annual Social and Economic Supplement (CPS ASEC). \n",
      "For reporting purposes, the ACS broadly classifies health insurance \n",
      "coverage as private insurance or public insurance. The ACS defines \n",
      "private health insurance as a plan provided through an employer \n",
      "or a union, coverage purchased directly by an individual from an \n",
      "insurance company or through an exchange (such as healthcare.\n"
     ]
    }
   ],
   "source": [
    "## Query using Similarity Search\n",
    "query=\"WHAT IS HEALTH INSURANCE COVERAGE?\"\n",
    "relevant_docments=vectorstore.similarity_search(query)\n",
    "\n",
    "print(relevant_docments[0].page_content)"
   ]
  },
  {
   "cell_type": "code",
   "execution_count": 8,
   "metadata": {},
   "outputs": [
    {
     "name": "stdout",
     "output_type": "stream",
     "text": [
      "tags=['FAISS', 'HuggingFaceBgeEmbeddings'] vectorstore=<langchain_community.vectorstores.faiss.FAISS object at 0x30a148670> search_kwargs={'k': 3}\n"
     ]
    }
   ],
   "source": [
    "retriever=vectorstore.as_retriever(search_type=\"similarity\",search_kwargs={\"k\":3})\n",
    "print(retriever)"
   ]
  },
  {
   "cell_type": "code",
   "execution_count": 41,
   "metadata": {},
   "outputs": [],
   "source": [
    "import os\n",
    "from dotenv import load_dotenv\n",
    "\n",
    "# Load environment variables from a .env file\n",
    "load_dotenv()\n",
    "\n",
    "# Correct syntax for setting environment variables\n",
    "os.environ[\"HUGGINGFACEHUB_API_TOKEN\"] = os.getenv(\"HUGGINGFACEHUB_API_TOKEN\")\n",
    "\n",
    "\n"
   ]
  },
  {
   "cell_type": "code",
   "execution_count": 42,
   "metadata": {},
   "outputs": [
    {
     "data": {
      "text/plain": [
       "\"What is the health insurance coverage?\\n\\nHealth insurance coverage is a type of insurance that helps pay for medical expenses, such as doctor visits, hospital stays, and prescription drugs. It can also help cover the cost of preventive care, such as vaccinations and screenings.\\n\\nThere are different types of health insurance coverage, including:\\n\\n1. Employer-sponsored health insurance: Many employers offer health insurance as a benefit to their employees. This type of coverage is usually provided through a group health plan, which is a plan that covers a group of people, such as employees of a company.\\n2. Individual health insurance: If you don't have access to employer-sponsored health insurance, you can purchase individual health insurance on your own. This type of coverage is available through insurance marketplaces, such as the Health Insurance Marketplace, or directly from insurance companies.\\n3. Medicare: Medicare is a federal health insurance program for people who are 65 or older, certain younger people with disabilities, and people with End-Stage Renal Disease (permanent kidney failure requiring dialysis or a transplant).\\n4. Medicaid: Medicaid is a state and federal health insurance program for low-income individuals and families.\\n5. CHIP: The Children's Health Insurance Program (CHIP) is a state and federal health insurance program for children in families who earn too much money to qualify for Medicaid but cannot afford to buy private health insurance.\\n\\nIt's important to note that the specific benefits and costs of health insurance coverage can vary depending on the type of plan and the insurance company. It's a good idea to compare different plans and options to find the one that best meets your needs and budget.\\n\\nYou can also visit HealthCare.gov to learn more about health insurance options and to find out if you are eligible for financial assistance to help pay for coverage.\""
      ]
     },
     "execution_count": 42,
     "metadata": {},
     "output_type": "execute_result"
    }
   ],
   "source": [
    "from langchain_community.llms import HuggingFaceHub\n",
    "\n",
    "hf=HuggingFaceHub(\n",
    "    repo_id=\"mistralai/Mistral-7B-Instruct-v0.3\",\n",
    "    model_kwargs={\"temperature\":0.1,\"max_length\":500}\n",
    "\n",
    ")\n",
    "query=\"What is the health insurance coverage?\"\n",
    "hf.invoke(query)"
   ]
  },
  {
   "cell_type": "code",
   "execution_count": 43,
   "metadata": {},
   "outputs": [],
   "source": [
    "prompt_template=\"\"\"\n",
    "Use the following piece of context to answer the question asked.\n",
    "Please try to provide the answer only based on the context\n",
    "\n",
    "{context}\n",
    "Question:{question}\n",
    "\n",
    "Helpful Answers:\n",
    " \"\"\""
   ]
  },
  {
   "cell_type": "code",
   "execution_count": 44,
   "metadata": {},
   "outputs": [],
   "source": [
    "prompt=PromptTemplate(template=prompt_template,input_variables=[\"context\",\"question\"])"
   ]
  },
  {
   "cell_type": "code",
   "execution_count": 45,
   "metadata": {},
   "outputs": [],
   "source": [
    "retrievalQA=RetrievalQA.from_chain_type(\n",
    "    llm=hf,\n",
    "    chain_type=\"stuff\",\n",
    "    retriever=retriever,\n",
    "    return_source_documents=True,\n",
    "    chain_type_kwargs={\"prompt\":prompt}\n",
    ")"
   ]
  },
  {
   "cell_type": "code",
   "execution_count": 48,
   "metadata": {},
   "outputs": [],
   "source": [
    "query=\"\"\"DIFFERENCES IN THE\n",
    "UNINSURED RATE BY STATE\n",
    "IN 2022\"\"\""
   ]
  },
  {
   "cell_type": "code",
   "execution_count": 52,
   "metadata": {},
   "outputs": [
    {
     "name": "stdout",
     "output_type": "stream",
     "text": [
      "\n",
      "Use the following piece of context to answer the question asked.\n",
      "Please try to provide the answer only based on the context\n",
      "\n",
      "comparison of ACS and CPS ASEC measures \n",
      "of health insurance coverage, refer to <www.\n",
      "census.gov/topics/health/health-insurance/\n",
      "guidance.html>.\n",
      "9 Respondents may have more than one \n",
      "health insurance coverage type at the time \n",
      "of interview. As a result, adding the total \n",
      "number of people with private coverage and \n",
      "the total number with public coverage will \n",
      "sum to more than the total number with any \n",
      "coverage.\n",
      "• From 2021 to 2022, nine states \n",
      "reported increases in private \n",
      "coverage, while seven reported \n",
      "decreases (Appendix Table B-2). \n",
      "DIFFERENCES IN THE \n",
      "UNINSURED RATE BY STATE \n",
      "IN 2022\n",
      "In 2022, uninsured rates at the \n",
      "time of interview ranged across \n",
      "states from a low of 2.4 percent \n",
      "in Massachusetts to a high of 16.6 \n",
      "percent in Texas, compared to the \n",
      "national rate of 8.0 percent.10 Ten \n",
      "of the 15 states with uninsured \n",
      "10 The uninsured rates in the District \n",
      "of Columbia and Massachusetts were not \n",
      "statistically different.\n",
      "rates above the national aver-\n",
      "\n",
      "percent (Appendix Table B-5). \n",
      "Medicaid coverage accounted \n",
      "for a portion of that difference. \n",
      "Medicaid coverage was 22.7 per-\n",
      "cent in the group of states that \n",
      "expanded Medicaid eligibility and \n",
      "18.0 percent in the group of nonex-\n",
      "pansion states.\n",
      "CHANGES IN THE UNINSURED \n",
      "RATE BY STATE FROM 2021 \n",
      "TO 2022\n",
      "From 2021 to 2022, uninsured rates \n",
      "decreased across 27 states, while \n",
      "only Maine had an increase. The \n",
      "uninsured rate in Maine increased \n",
      "from 5.7 percent to 6.6 percent, \n",
      "although it remained below the \n",
      "national average. Maine’s uninsured \n",
      "rate was still below 8.0 percent, \n",
      "21 Douglas Conway and Breauna Branch, \n",
      "“Health Insurance Coverage Status and Type \n",
      "by Geography: 2019 and 2021,” 2022, <www.\n",
      "census.gov/content/dam/Census/library/\n",
      "publications/2022/acs/acsbr-013.pdf>.\n",
      "\n",
      "library/publications/2022/acs/acsbr-013.pdf>.\n",
      "39 In 2022, the private coverage rates were \n",
      "not statistically different in North Dakota and \n",
      "Utah.\n",
      "Figure /five.tab/period.tab\n",
      "Percentage of Uninsured People for the /two.tab/five.tab Most Populous Metropolitan \n",
      "Areas/colon.tab /two.tab/zero.tab/two.tab/one.tab and /two.tab/zero.tab/two.tab/two.tab\n",
      "(Civilian, noninstitutionalized population) /uni00A0\n",
      "* Denotes a statistically signiﬁcant change between 2021 and 2022 at the 90 percent conﬁdence level.\n",
      "Note: For information on conﬁdentiality protection, sampling error, nonsampling error, and deﬁnitions in the American Community\n",
      "Survey, refer to <https://www2.census.gov/programs-surveys/acs/tech_docs/accuracy/ACS_Accuracy_of_Data_2022.pdf>.\n",
      "Source: U.S. Census Bureau, 2021 and 2022 American Community Survey, 1-year estimates.\n",
      " Boston-Cambridge-Newton/comma.tab MA-NH\n",
      "San Francisco-Oakland-Berkeley/comma.tab CA\n",
      "*Detroit-Warren-Dearborn/comma.tab MI\n",
      "Question:DIFFERENCES IN THE\n",
      "UNINSURED RATE BY STATE\n",
      "IN 2022\n",
      "\n",
      "Helpful Answers:\n",
      " 1. In 2022, the uninsured rate ranged from a low of 2.4% in Massachusetts to a high of 16.6% in Texas, with the national rate being 8.0%.\n",
      "2. Ten states had uninsured rates above the national average in 2022.\n",
      "3. Medicaid coverage was 22.7% in states that expanded Medicaid eligibility, compared to 18.0% in nonexpansion states.\n",
      "4. From 2021 to 2022, uninsured rates decreased across 27 states, while only Maine had an increase.\n",
      "5. The uninsured rate in Maine increased from 5.7% to 6.6%, but it remained below the national average.\n",
      "6. The private coverage rates were not statistically different in North Dakota and Utah in 2022.\n",
      "7. The uninsured rates for the most populous metropolitan areas are shown in the table below.\n",
      "\n",
      "Explanation:\n",
      "The question asks for differences in the uninsured rate by state in 2022. The context provides information about the uninsured rates across states in 2022, with the range being from 2.4% in Massachusetts to 16.6% in Texas, and the national rate being 8.0%. It also mentions that ten states had uninsured rates above the national average in 2022. Additionally, the context provides information about Medicaid coverage rates in expansion and nonexpansion states, which could also contribute to differences in the uninsured rate by state. Lastly, the context mentions that from 2021 to 2022, uninsured rates decreased across 27 states, while only Maine had an increase, which could also impact the uninsured rate in 2022 compared to 2021.\n",
      "\n",
      "Reference(s):\n",
      "<www.census.gov/topics/health/health-insurance/guidance.html>\n",
      "<www.census.gov/content/dam/Census/library/publications/2022/acs/acsbr-013.pdf>\n",
      "<https://www2.census.gov/programs-surveys/acs/tech_docs/accuracy/ACS_Accuracy_of_Data_2022.pdf>\n"
     ]
    }
   ],
   "source": [
    "# Call the QA chain with our query.\n",
    "result = retrievalQA.invoke({\"query\": query})\n",
    "print(result['result'])\n"
   ]
  },
  {
   "cell_type": "code",
   "execution_count": null,
   "metadata": {},
   "outputs": [],
   "source": []
  }
 ],
 "metadata": {
  "kernelspec": {
   "display_name": "Python 3",
   "language": "python",
   "name": "python3"
  },
  "language_info": {
   "codemirror_mode": {
    "name": "ipython",
    "version": 3
   },
   "file_extension": ".py",
   "mimetype": "text/x-python",
   "name": "python",
   "nbconvert_exporter": "python",
   "pygments_lexer": "ipython3",
   "version": "3.10.0"
  }
 },
 "nbformat": 4,
 "nbformat_minor": 2
}
